{
 "cells": [
  {
   "cell_type": "code",
   "execution_count": 624,
   "outputs": [],
   "source": [
    "import matplotlib.pyplot as plt\n",
    "import numpy as np\n",
    "from numpy import random\n",
    "import clonalg\n",
    "import pandas as pd\n",
    "from sklearn import preprocessing"
   ],
   "metadata": {
    "collapsed": false,
    "pycharm": {
     "name": "#%%\n"
    }
   }
  },
  {
   "cell_type": "code",
   "execution_count": 687,
   "outputs": [],
   "source": [
    "df = pd.read_csv('dataset/iris.csv', header=None)\n",
    "\n",
    "df[4] = pd.Categorical(df[4]).codes\n",
    "\n",
    "df = df.loc[df[4] == 0]\n",
    "\n",
    "scaler = preprocessing.MinMaxScaler()\n",
    "train = pd.DataFrame(scaler.fit_transform(df.values), columns=df.columns, index=df.index)\n",
    "\n",
    "labels = train[[4]].copy()\n",
    "train = train.drop(columns=[4])"
   ],
   "metadata": {
    "collapsed": false,
    "pycharm": {
     "name": "#%%\n"
    }
   }
  },
  {
   "cell_type": "code",
   "execution_count": 641,
   "metadata": {
    "ExecuteTime": {
     "end_time": "2018-11-07T01:56:57.020635Z",
     "start_time": "2018-11-07T01:56:57.011187Z"
    },
    "pycharm": {
     "name": "#%%\n"
    }
   },
   "outputs": [
    {
     "ename": "AttributeError",
     "evalue": "'numpy.ndarray' object has no attribute 'axes'",
     "output_type": "error",
     "traceback": [
      "\u001B[0;31m---------------------------------------------------------------------------\u001B[0m",
      "\u001B[0;31mAttributeError\u001B[0m                            Traceback (most recent call last)",
      "Cell \u001B[0;32mIn [641], line 2\u001B[0m\n\u001B[1;32m      1\u001B[0m \u001B[38;5;66;03m# Inputs parameters\u001B[39;00m\n\u001B[0;32m----> 2\u001B[0m feature_num \u001B[38;5;241m=\u001B[39m \u001B[38;5;28mlen\u001B[39m(train\u001B[38;5;241m.\u001B[39maxes[\u001B[38;5;241m1\u001B[39m])\n\u001B[1;32m      3\u001B[0m feature_max \u001B[38;5;241m=\u001B[39m train\u001B[38;5;241m.\u001B[39mmax()\n\u001B[1;32m      4\u001B[0m feature_max  \u001B[38;5;241m=\u001B[39m feature_max\u001B[38;5;241m.\u001B[39mmax()\n",
      "\u001B[0;31mAttributeError\u001B[0m: 'numpy.ndarray' object has no attribute 'axes'"
     ]
    }
   ],
   "source": [
    "# Inputs parameters\n",
    "feature_num = len(train.axes[1])\n",
    "feature_max = train.max()\n",
    "feature_max  = feature_max.max()\n",
    "feature_min = train.min()\n",
    "feature_min  = feature_min.min()\n",
    "\n",
    "threshold = 0.1\n",
    "\n",
    "population_size = 300\n",
    "selection_size = 20\n",
    "random_cells_num = 20\n",
    "clone_rate = 50\n",
    "mutation_rate = 0.3\n",
    "stop_codition = 10000"
   ]
  },
  {
   "cell_type": "code",
   "execution_count": 642,
   "outputs": [
    {
     "ename": "AttributeError",
     "evalue": "'numpy.ndarray' object has no attribute 'to_numpy'",
     "output_type": "error",
     "traceback": [
      "\u001B[0;31m---------------------------------------------------------------------------\u001B[0m",
      "\u001B[0;31mAttributeError\u001B[0m                            Traceback (most recent call last)",
      "Cell \u001B[0;32mIn [642], line 1\u001B[0m\n\u001B[0;32m----> 1\u001B[0m train \u001B[38;5;241m=\u001B[39m train\u001B[38;5;241m.\u001B[39mto_numpy()\n",
      "\u001B[0;31mAttributeError\u001B[0m: 'numpy.ndarray' object has no attribute 'to_numpy'"
     ]
    }
   ],
   "source": [
    "train = train.to_numpy()"
   ],
   "metadata": {
    "collapsed": false,
    "pycharm": {
     "name": "#%%\n"
    }
   }
  },
  {
   "cell_type": "code",
   "execution_count": null,
   "metadata": {
    "ExecuteTime": {
     "end_time": "2018-11-07T01:56:59.100186Z",
     "start_time": "2018-11-07T01:56:57.022018Z"
    },
    "scrolled": true,
    "pycharm": {
     "name": "#%%\n"
    }
   },
   "outputs": [],
   "source": [
    "stop = 0\n",
    "population = clonalg.create_random_cells(population_size, feature_num, feature_min, feature_max)\n",
    "best_affinity_it = []\n",
    "\n",
    "while stop != stop_codition:\n",
    "    antigen = train[np.random.randint(0, len(train))]\n",
    "    population_affinity = [(cell, clonalg.affinity(cell, antigen)) for cell in population]\n",
    "    populatin_affinity = sorted(population_affinity, key=lambda x: x[1])\n",
    "\n",
    "    # Número de melhores individuos delecionados\n",
    "    best_affinity_it.append(populatin_affinity[:10])\n",
    "\n",
    "    population_select = populatin_affinity[:selection_size]\n",
    "\n",
    "    population_clones = []\n",
    "    for cell in population_select:\n",
    "        cell_clones = clonalg.clone(cell, clone_rate)\n",
    "        population_clones += cell_clones\n",
    "\n",
    "    pop_clones_tmp = []\n",
    "    for cell in population_clones:\n",
    "        ind_tmp = clonalg.hypermutate(cell, mutation_rate, feature_min, feature_max, antigen)\n",
    "        pop_clones_tmp.append(ind_tmp)\n",
    "    population_clones = pop_clones_tmp\n",
    "    del pop_clones_tmp\n",
    "\n",
    "    population = clonalg.select(populatin_affinity, population_clones, population_size)\n",
    "\n",
    "    population_rand = clonalg.create_random_cells(random_cells_num, feature_num, feature_min, feature_max)\n",
    "    population_rand_affinity = [(cell, clonalg.affinity(cell, antigen)) for cell in population_rand]\n",
    "    population_rand_affinity = sorted(population_rand_affinity, key=lambda x: x[1])\n",
    "\n",
    "    population = clonalg.replace(population_affinity, population_rand_affinity, population_size)\n",
    "    population = [cell[0] for cell in population]\n",
    "    \n",
    "    stop += 1"
   ]
  },
  {
   "cell_type": "code",
   "execution_count": null,
   "outputs": [],
   "source": [
    "bests_mean = []\n",
    "iterations = [i for i in range(10000)]\n",
    "\n",
    "for pop_it in best_affinity_it:\n",
    "    bests_mean.append(np.mean([cell[1] for cell in pop_it]))"
   ],
   "metadata": {
    "collapsed": false,
    "pycharm": {
     "name": "#%%\n"
    }
   }
  },
  {
   "cell_type": "code",
   "execution_count": null,
   "outputs": [],
   "source": [
    "pop_it"
   ],
   "metadata": {
    "collapsed": false,
    "pycharm": {
     "name": "#%%\n"
    }
   }
  },
  {
   "cell_type": "code",
   "execution_count": 679,
   "outputs": [],
   "source": [
    "for i in range(len(pop_it)):\n",
    "    population[i] = pop_it[i][0]"
   ],
   "metadata": {
    "collapsed": false,
    "pycharm": {
     "name": "#%%\n"
    }
   }
  },
  {
   "cell_type": "code",
   "execution_count": 688,
   "outputs": [],
   "source": [
    "antibodies = pd.DataFrame(population)\n",
    "antibodies = pd.concat([antibodies, labels], axis=1, join=\"inner\")\n",
    "antibodies = pd.DataFrame(scaler.inverse_transform(antibodies), columns=antibodies.columns)\n",
    "antibodies = antibodies.drop(columns=[4])"
   ],
   "metadata": {
    "collapsed": false,
    "pycharm": {
     "name": "#%%\n"
    }
   }
  },
  {
   "cell_type": "code",
   "execution_count": 689,
   "outputs": [],
   "source": [
    "antigens = df.head(10)\n",
    "antigens = antigens.drop(columns=[4])\n",
    "antigens = antigens.to_numpy()\n",
    "antibodies = antibodies.head(10).to_numpy()"
   ],
   "metadata": {
    "collapsed": false,
    "pycharm": {
     "name": "#%%\n"
    }
   }
  },
  {
   "cell_type": "code",
   "execution_count": 690,
   "outputs": [],
   "source": [
    "aff = []\n",
    "aff_antigen = []\n",
    "for i in range(len(antibodies)):\n",
    "    for j in range(len(antibodies)):\n",
    "         aff_antigen.append((abs(affinity(antibodies[i], antigens[j]))))\n",
    "    aff.append(min(aff_antigen))"
   ],
   "metadata": {
    "collapsed": false,
    "pycharm": {
     "name": "#%%\n"
    }
   }
  },
  {
   "cell_type": "code",
   "execution_count": 691,
   "outputs": [
    {
     "data": {
      "text/plain": "[1.0480947928079645,\n 1.0480947928079645,\n 0.9574852881871104,\n 0.9574852881871104,\n 0.912207858727249,\n 0.912207858727249,\n 0.912207858727249,\n 0.912207858727249,\n 0.912207858727249,\n 0.912207858727249]"
     },
     "execution_count": 691,
     "metadata": {},
     "output_type": "execute_result"
    }
   ],
   "source": [
    "aff"
   ],
   "metadata": {
    "collapsed": false,
    "pycharm": {
     "name": "#%%\n"
    }
   }
  },
  {
   "cell_type": "code",
   "execution_count": 695,
   "outputs": [],
   "source": [
    "for i in range(len(aff)):\n",
    "    if aff[i] < threshold:\n",
    "        print('The antigen ', i, ' reacted to the antibody')"
   ],
   "metadata": {
    "collapsed": false,
    "pycharm": {
     "name": "#%%\n"
    }
   }
  },
  {
   "cell_type": "code",
   "execution_count": 673,
   "outputs": [],
   "source": [
    "plot_df = pd.DataFrame(antibodies, columns = ['A','B','C','D'])"
   ],
   "metadata": {
    "collapsed": false,
    "pycharm": {
     "name": "#%%\n"
    }
   }
  },
  {
   "cell_type": "code",
   "execution_count": null,
   "outputs": [],
   "source": [],
   "metadata": {
    "collapsed": false,
    "pycharm": {
     "name": "#%%\n"
    }
   }
  }
 ],
 "metadata": {
  "kernelspec": {
   "display_name": "Python 3",
   "language": "python",
   "name": "python3"
  },
  "language_info": {
   "codemirror_mode": {
    "name": "ipython",
    "version": 3
   },
   "file_extension": ".py",
   "mimetype": "text/x-python",
   "name": "python",
   "nbconvert_exporter": "python",
   "pygments_lexer": "ipython3",
   "version": "3.6.4"
  },
  "toc": {
   "base_numbering": 1,
   "nav_menu": {},
   "number_sections": true,
   "sideBar": true,
   "skip_h1_title": false,
   "title_cell": "Table of Contents",
   "title_sidebar": "Contents",
   "toc_cell": false,
   "toc_position": {},
   "toc_section_display": true,
   "toc_window_display": false
  },
  "varInspector": {
   "cols": {
    "lenName": 16,
    "lenType": 16,
    "lenVar": 40
   },
   "kernels_config": {
    "python": {
     "delete_cmd_postfix": "",
     "delete_cmd_prefix": "del ",
     "library": "var_list.py",
     "varRefreshCmd": "print(var_dic_list())"
    },
    "r": {
     "delete_cmd_postfix": ") ",
     "delete_cmd_prefix": "rm(",
     "library": "var_list.r",
     "varRefreshCmd": "cat(var_dic_list()) "
    }
   },
   "types_to_exclude": [
    "module",
    "function",
    "builtin_function_or_method",
    "instance",
    "_Feature"
   ],
   "window_display": false
  }
 },
 "nbformat": 4,
 "nbformat_minor": 2
}